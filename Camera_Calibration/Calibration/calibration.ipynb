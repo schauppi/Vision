{
 "cells": [
  {
   "cell_type": "code",
   "execution_count": 1,
   "metadata": {
    "collapsed": true
   },
   "outputs": [],
   "source": [
    "#Imports\n",
    "import cv2\n",
    "import numpy as np\n",
    "import glob"
   ]
  },
  {
   "cell_type": "code",
   "execution_count": 2,
   "outputs": [],
   "source": [
    "#Define checkerboard size\n",
    "checkerboard_size = (8,6)\n",
    "frame_size = (2208, 1242)"
   ],
   "metadata": {
    "collapsed": false,
    "pycharm": {
     "name": "#%%\n"
    }
   }
  },
  {
   "cell_type": "code",
   "execution_count": 3,
   "outputs": [],
   "source": [
    "#termination criteria\n",
    "criteria = (cv2.TERM_CRITERIA_EPS + cv2.TERM_CRITERIA_MAX_ITER, 30, 0.001)"
   ],
   "metadata": {
    "collapsed": false,
    "pycharm": {
     "name": "#%%\n"
    }
   }
  },
  {
   "cell_type": "code",
   "execution_count": 4,
   "outputs": [],
   "source": [
    "#Prepare object points\n",
    "object_points = np.zeros((checkerboard_size[0] * checkerboard_size[1], 3), np.float32)\n",
    "object_points[:,:2] = np.mgrid[0:checkerboard_size[0], 0:checkerboard_size[1]].T.reshape(-1,2)"
   ],
   "metadata": {
    "collapsed": false,
    "pycharm": {
     "name": "#%%\n"
    }
   }
  },
  {
   "cell_type": "code",
   "execution_count": 5,
   "outputs": [],
   "source": [
    "#Arrays to store object points and image points from all images\n",
    "object_points_list = [] #3d points real world space\n",
    "image_points_list = [] #2d points image plain"
   ],
   "metadata": {
    "collapsed": false,
    "pycharm": {
     "name": "#%%\n"
    }
   }
  },
  {
   "cell_type": "code",
   "execution_count": 6,
   "outputs": [],
   "source": [
    "#Path to the images\n",
    "images = glob.glob(\"/Users/davidschaupp/Documents/GitHub/Vision/Camera_Calibration/Calibration/Checkerboard_Images/*.png\")\n",
    "images = glob.glob(\"/Users/davidschaupp/Downloads/cam_4_calibration_images/*.png\")"
   ],
   "metadata": {
    "collapsed": false,
    "pycharm": {
     "name": "#%%\n"
    }
   }
  },
  {
   "cell_type": "code",
   "execution_count": 7,
   "outputs": [],
   "source": [
    "for image in images:\n",
    "    img = cv2.imread(image)\n",
    "    gray = cv2.cvtColor(img, cv2.COLOR_BGR2GRAY)\n",
    "    #detect corners\n",
    "    ret, corners = cv2.findChessboardCorners(gray, checkerboard_size, None)\n",
    "\n",
    "    if ret == True:\n",
    "        object_points_list.append(object_points)\n",
    "        corners_2 = cv2.cornerSubPix(gray, corners, (11, 11), (-1,-1), criteria)\n",
    "        image_points_list.append(corners)\n",
    "\n",
    "        #Draw and display the corners\n",
    "\n",
    "        cv2.drawChessboardCorners(img, checkerboard_size, corners_2, ret)\n",
    "        cv2.imshow(\"img\", img)\n",
    "        cv2.waitKey(1000)\n",
    "\n",
    "\n",
    "cv2.destroyAllWindows()"
   ],
   "metadata": {
    "collapsed": false,
    "pycharm": {
     "name": "#%%\n"
    }
   }
  },
  {
   "cell_type": "code",
   "execution_count": 8,
   "outputs": [],
   "source": [
    "#Calibration\n",
    "ret, cameraMatrix, dist, rvecs, tvecs = cv2.calibrateCamera(object_points_list, image_points_list, frame_size, None, None)"
   ],
   "metadata": {
    "collapsed": false,
    "pycharm": {
     "name": "#%%\n"
    }
   }
  },
  {
   "cell_type": "code",
   "execution_count": 9,
   "outputs": [
    {
     "name": "stdout",
     "output_type": "stream",
     "text": [
      "Camera calibrated: 2.1766772560802887\n",
      "\n",
      " Camera Matrix: \n",
      " [[9.34315064e+02 0.00000000e+00 1.09837116e+03]\n",
      " [0.00000000e+00 9.17677485e+02 6.36129872e+02]\n",
      " [0.00000000e+00 0.00000000e+00 1.00000000e+00]]\n",
      "\n",
      " Disortion Parameters: \n",
      " [[-0.13330761  0.30729155 -0.02002784  0.00569651 -0.27627372]]\n",
      "\n",
      " Rotation Vectors: \n",
      " [array([[ 0.14380487],\n",
      "       [ 0.0836261 ],\n",
      "       [-0.04802386]]), array([[0.12539606],\n",
      "       [0.43903943],\n",
      "       [0.26253695]]), array([[-0.7396445 ],\n",
      "       [ 0.64026744],\n",
      "       [ 1.39407877]]), array([[ 0.35761921],\n",
      "       [ 0.4886955 ],\n",
      "       [-1.48953462]]), array([[-0.66303406],\n",
      "       [-0.72063988],\n",
      "       [-1.44595831]]), array([[0.0649865 ],\n",
      "       [0.0298982 ],\n",
      "       [0.06626009]]), array([[-0.71737461],\n",
      "       [ 0.65207799],\n",
      "       [ 1.40794941]]), array([[-0.18792132],\n",
      "       [-0.15410522],\n",
      "       [-1.48593312]]), array([[ 0.048834  ],\n",
      "       [ 0.21430579],\n",
      "       [-1.50983079]]), array([[-1.16514595],\n",
      "       [ 0.94013655],\n",
      "       [ 1.22300172]]), array([[-0.25623355],\n",
      "       [ 0.00343419],\n",
      "       [-0.00107388]]), array([[-0.87679992],\n",
      "       [ 0.63102281],\n",
      "       [ 1.35961006]]), array([[0.05786232],\n",
      "       [0.31603328],\n",
      "       [0.20819657]]), array([[-0.00974211],\n",
      "       [-0.03939517],\n",
      "       [-0.0034836 ]]), array([[ 0.66933995],\n",
      "       [ 0.63295869],\n",
      "       [-1.34887687]]), array([[0.08056209],\n",
      "       [0.06344206],\n",
      "       [0.0569291 ]]), array([[-0.18677199],\n",
      "       [-0.15694197],\n",
      "       [-1.47502036]]), array([[ 0.12113122],\n",
      "       [-0.23174922],\n",
      "       [-0.01423764]]), array([[-0.13998669],\n",
      "       [-0.08146506],\n",
      "       [-1.48772225]]), array([[-0.7646245 ],\n",
      "       [ 0.68593797],\n",
      "       [ 1.33781236]]), array([[ 0.14691792],\n",
      "       [ 0.29521742],\n",
      "       [-1.49010192]]), array([[ 0.22196321],\n",
      "       [ 0.47771968],\n",
      "       [-1.49824155]]), array([[ 0.20669596],\n",
      "       [-0.40033311],\n",
      "       [-0.17688923]]), array([[-0.90496743],\n",
      "       [-0.05885947],\n",
      "       [-0.22417054]]), array([[-0.88648348],\n",
      "       [-0.06141684],\n",
      "       [-0.12708282]]), array([[-0.91648597],\n",
      "       [-0.02683777],\n",
      "       [-0.17227426]]), array([[-0.86634672],\n",
      "       [-0.09122236],\n",
      "       [-0.19848469]]), array([[-0.71659728],\n",
      "       [-0.04488211],\n",
      "       [-0.08659027]]), array([[-0.24350349],\n",
      "       [-0.00183556],\n",
      "       [ 0.07154964]])]\n",
      "\n",
      "Translation Vectors: \n",
      " [array([[-8.35199711],\n",
      "       [-9.97530425],\n",
      "       [60.95092383]]), array([[-6.30506591],\n",
      "       [-9.60126557],\n",
      "       [63.91626415]]), array([[-8.68176774],\n",
      "       [-5.38846889],\n",
      "       [55.74514899]]), array([[-7.6131436 ],\n",
      "       [-5.92103174],\n",
      "       [63.0500449 ]]), array([[-10.93025237],\n",
      "       [ 17.61956797],\n",
      "       [ 28.76387264]]), array([[ -7.73891606],\n",
      "       [-10.68941599],\n",
      "       [ 61.19740919]]), array([[-7.6671428],\n",
      "       [ 5.4267849],\n",
      "       [43.2784364]]), array([[-7.10136587],\n",
      "       [-8.52911502],\n",
      "       [60.67455795]]), array([[-6.83827509],\n",
      "       [-5.23318729],\n",
      "       [61.7439971 ]]), array([[ 4.36139506],\n",
      "       [12.80139838],\n",
      "       [39.33776583]]), array([[-8.04169507],\n",
      "       [-9.78870234],\n",
      "       [63.33704385]]), array([[ 5.00044032],\n",
      "       [11.98074324],\n",
      "       [37.42021666]]), array([[-7.15476594],\n",
      "       [-9.26317617],\n",
      "       [63.94242544]]), array([[-7.86200428],\n",
      "       [-8.645214  ],\n",
      "       [63.06035716]]), array([[-6.42233848],\n",
      "       [-2.91051543],\n",
      "       [66.57851244]]), array([[-8.04997376],\n",
      "       [-8.53086373],\n",
      "       [63.38197559]]), array([[-7.00804602],\n",
      "       [-8.59421013],\n",
      "       [60.69333949]]), array([[-7.64671751],\n",
      "       [-7.83247251],\n",
      "       [62.02269994]]), array([[-6.98304282],\n",
      "       [-7.97262947],\n",
      "       [60.84794299]]), array([[14.8097627 ],\n",
      "       [-8.99063134],\n",
      "       [63.42398559]]), array([[-6.92295739],\n",
      "       [-5.22518694],\n",
      "       [62.46103071]]), array([[-7.52966478],\n",
      "       [-5.21161606],\n",
      "       [64.28824902]]), array([[-8.36358526],\n",
      "       [-7.65134188],\n",
      "       [61.69152328]]), array([[-2.38028809],\n",
      "       [16.11837415],\n",
      "       [37.06875991]]), array([[ 1.50501756],\n",
      "       [ 0.95397717],\n",
      "       [37.10098379]]), array([[ 1.08433895],\n",
      "       [ 7.33050313],\n",
      "       [30.73645025]]), array([[-2.77729468],\n",
      "       [10.39801302],\n",
      "       [42.45347722]]), array([[-2.47645776],\n",
      "       [ 3.3058007 ],\n",
      "       [46.81444274]]), array([[ -7.62039921],\n",
      "       [-12.22713622],\n",
      "       [ 62.08727724]])]\n"
     ]
    }
   ],
   "source": [
    "print(f\"Camera calibrated: {ret}\")\n",
    "print(f\"\\n Camera Matrix: \\n {cameraMatrix}\")\n",
    "print(f\"\\n Disortion Parameters: \\n {dist}\")\n",
    "print(f\"\\n Rotation Vectors: \\n {rvecs}\")\n",
    "print(f\"\\nTranslation Vectors: \\n {tvecs}\")"
   ],
   "metadata": {
    "collapsed": false,
    "pycharm": {
     "name": "#%%\n"
    }
   }
  },
  {
   "cell_type": "code",
   "execution_count": 9,
   "outputs": [],
   "source": [
    "#Get new camera matrix\n",
    "img = cv2.imread(\"/Users/davidschaupp/Downloads/cam_4_calibration_images/left000704.png\")\n",
    "h, w = img.shape[:2]\n",
    "new_camera_matrix, roi = cv2.getOptimalNewCameraMatrix(cameraMatrix, dist, (w,h), 1, (w,h))"
   ],
   "metadata": {
    "collapsed": false,
    "pycharm": {
     "name": "#%%\n"
    }
   }
  },
  {
   "cell_type": "code",
   "execution_count": 13,
   "outputs": [
    {
     "data": {
      "text/plain": "array([[1.36118262e+03, 0.00000000e+00, 1.15754649e+03],\n       [0.00000000e+00, 8.27968628e+02, 7.19270583e+02],\n       [0.00000000e+00, 0.00000000e+00, 1.00000000e+00]])"
     },
     "execution_count": 13,
     "metadata": {},
     "output_type": "execute_result"
    }
   ],
   "source": [
    "new_camera_matrix"
   ],
   "metadata": {
    "collapsed": false,
    "pycharm": {
     "name": "#%%\n"
    }
   }
  },
  {
   "cell_type": "code",
   "execution_count": 12,
   "outputs": [
    {
     "data": {
      "text/plain": "True"
     },
     "execution_count": 12,
     "metadata": {},
     "output_type": "execute_result"
    }
   ],
   "source": [
    "#Undistort\n",
    "dst = cv2.undistort(img, cameraMatrix, dist, None, new_camera_matrix)\n",
    "#crop the image\n",
    "x, y, w, h = roi\n",
    "dst = dst[y:y+h, x:x+w]\n",
    "cv2.imwrite(\"/Users/davidschaupp/Downloads/calibration_result.png\", dst)"
   ],
   "metadata": {
    "collapsed": false,
    "pycharm": {
     "name": "#%%\n"
    }
   }
  },
  {
   "cell_type": "code",
   "execution_count": 31,
   "outputs": [
    {
     "data": {
      "text/plain": "True"
     },
     "execution_count": 31,
     "metadata": {},
     "output_type": "execute_result"
    }
   ],
   "source": [
    "\"\"\"\n",
    "#Undistort with remapping\n",
    "mapx, mapy = cv2.initUndistortRectifyMap(cameraMatrix, dist, None, new_camera_matrix, (w,h), 5)\n",
    "dst = cv2.remap(img, mapx, mapy, cv2.INTER_LINEAR)\n",
    "#crop the image\n",
    "x, y, w, h = roi\n",
    "dst = dst[y:y+h, x:x+w]\n",
    "cv2.imwrite(\"/Users/davidschaupp/Documents/GitHub/Vision/Camera_Calibration/Calibration/Checkerboard_Images/calibration_result_mapped.png\", dst)\n",
    "\"\"\"\n"
   ],
   "metadata": {
    "collapsed": false,
    "pycharm": {
     "name": "#%%\n"
    }
   }
  },
  {
   "cell_type": "code",
   "execution_count": 29,
   "outputs": [],
   "source": [],
   "metadata": {
    "collapsed": false,
    "pycharm": {
     "name": "#%%\n"
    }
   }
  }
 ],
 "metadata": {
  "kernelspec": {
   "display_name": "Python 3",
   "language": "python",
   "name": "python3"
  },
  "language_info": {
   "codemirror_mode": {
    "name": "ipython",
    "version": 2
   },
   "file_extension": ".py",
   "mimetype": "text/x-python",
   "name": "python",
   "nbconvert_exporter": "python",
   "pygments_lexer": "ipython2",
   "version": "2.7.6"
  }
 },
 "nbformat": 4,
 "nbformat_minor": 0
}