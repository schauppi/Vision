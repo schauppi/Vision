{
 "cells": [
  {
   "cell_type": "code",
   "execution_count": 19,
   "metadata": {
    "collapsed": true
   },
   "outputs": [],
   "source": [
    "#Imports\n",
    "import cv2\n",
    "import numpy as np\n",
    "import glob"
   ]
  },
  {
   "cell_type": "code",
   "execution_count": 20,
   "outputs": [],
   "source": [
    "#Define checkerboard size\n",
    "checkerboard_size = (24,17)\n",
    "frame_size = (1440, 1080)"
   ],
   "metadata": {
    "collapsed": false,
    "pycharm": {
     "name": "#%%\n"
    }
   }
  },
  {
   "cell_type": "code",
   "execution_count": 21,
   "outputs": [],
   "source": [
    "#termination criteria\n",
    "criteria = (cv2.TERM_CRITERIA_EPS + cv2.TERM_CRITERIA_MAX_ITER, 30, 0.001)"
   ],
   "metadata": {
    "collapsed": false,
    "pycharm": {
     "name": "#%%\n"
    }
   }
  },
  {
   "cell_type": "code",
   "execution_count": 22,
   "outputs": [],
   "source": [
    "#Prepare object points\n",
    "object_points = np.zeros((checkerboard_size[0] * checkerboard_size[1], 3), np.float32)\n",
    "object_points[:,:2] = np.mgrid[0:checkerboard_size[0], 0:checkerboard_size[1]].T.reshape(-1,2)"
   ],
   "metadata": {
    "collapsed": false,
    "pycharm": {
     "name": "#%%\n"
    }
   }
  },
  {
   "cell_type": "code",
   "execution_count": 23,
   "outputs": [],
   "source": [
    "#Arrays to store object points and image points from all images\n",
    "object_points_list = [] #3d points real world space\n",
    "image_points_list = [] #2d points image plain"
   ],
   "metadata": {
    "collapsed": false,
    "pycharm": {
     "name": "#%%\n"
    }
   }
  },
  {
   "cell_type": "code",
   "execution_count": 24,
   "outputs": [],
   "source": [
    "#Path to the images\n",
    "images = glob.glob(\"/Users/davidschaupp/Documents/GitHub/Vision/Camera_Calibration/Calibration/Checkerboard_Images/*.png\")"
   ],
   "metadata": {
    "collapsed": false,
    "pycharm": {
     "name": "#%%\n"
    }
   }
  },
  {
   "cell_type": "code",
   "execution_count": 25,
   "outputs": [],
   "source": [
    "for image in images:\n",
    "    img = cv2.imread(image)\n",
    "    gray = cv2.cvtColor(img, cv2.COLOR_BGR2GRAY)\n",
    "    #detect corners\n",
    "    ret, corners = cv2.findChessboardCorners(gray, checkerboard_size, None)\n",
    "\n",
    "    if ret == True:\n",
    "        object_points_list.append(object_points)\n",
    "        corners_2 = cv2.cornerSubPix(gray, corners, (11, 11), (-1,-1), criteria)\n",
    "        image_points_list.append(corners)\n",
    "\n",
    "        #Draw and display the corners\n",
    "        \"\"\"\n",
    "        cv2.drawChessboardCorners(img, checkerboard_size, corners_2, ret)\n",
    "        cv2.imshow(\"img\", img)\n",
    "        cv2.waitKey(1000)\n",
    "        \"\"\"\n",
    "\n",
    "cv2.destroyAllWindows()"
   ],
   "metadata": {
    "collapsed": false,
    "pycharm": {
     "name": "#%%\n"
    }
   }
  },
  {
   "cell_type": "code",
   "execution_count": 26,
   "outputs": [],
   "source": [
    "#Calibration\n",
    "ret, cameraMatrix, dist, rvecs, tvecs = cv2.calibrateCamera(object_points_list, image_points_list, frame_size, None, None)"
   ],
   "metadata": {
    "collapsed": false,
    "pycharm": {
     "name": "#%%\n"
    }
   }
  },
  {
   "cell_type": "code",
   "execution_count": 27,
   "outputs": [
    {
     "name": "stdout",
     "output_type": "stream",
     "text": [
      "Camera calibrated: 1.8174966752742883\n",
      "\n",
      " Camera Matrix: \n",
      " [[1.17298450e+03 0.00000000e+00 7.41150967e+02]\n",
      " [0.00000000e+00 1.17330896e+03 5.90933024e+02]\n",
      " [0.00000000e+00 0.00000000e+00 1.00000000e+00]]\n",
      "\n",
      " Disortion Parameters: \n",
      " [[-0.24453333  0.1398594   0.00112469 -0.00032557 -0.07670913]]\n",
      "\n",
      " Rotation Vectors: \n",
      " [array([[-0.02048924],\n",
      "       [-0.29762715],\n",
      "       [-0.06964861]]), array([[ 3.29209757e-01],\n",
      "       [ 2.09403891e-04],\n",
      "       [-2.39759025e-02]]), array([[-0.00710631],\n",
      "       [ 0.44190207],\n",
      "       [-0.00083659]]), array([[-0.6413161 ],\n",
      "       [ 0.02735953],\n",
      "       [-0.05102055]]), array([[-0.00898901],\n",
      "       [ 0.00851589],\n",
      "       [ 0.02877699]]), array([[-0.00750662],\n",
      "       [-0.00023334],\n",
      "       [ 0.00011609]]), array([[-0.01061286],\n",
      "       [ 0.00212103],\n",
      "       [ 0.02078536]]), array([[-0.00388639],\n",
      "       [-0.00149317],\n",
      "       [-0.0193396 ]]), array([[-0.01347142],\n",
      "       [ 0.24388383],\n",
      "       [-0.00554288]]), array([[-0.0110545 ],\n",
      "       [-0.00054506],\n",
      "       [ 0.03786814]]), array([[-0.00683213],\n",
      "       [ 0.00021162],\n",
      "       [ 0.00144592]]), array([[-0.00383446],\n",
      "       [ 0.00118753],\n",
      "       [ 0.01592269]]), array([[-0.01481839],\n",
      "       [ 0.00056273],\n",
      "       [-0.04080148]]), array([[-0.01208906],\n",
      "       [ 0.00366421],\n",
      "       [-1.58753042]]), array([[ 0.01454268],\n",
      "       [-0.09817605],\n",
      "       [-1.58791653]]), array([[-0.63743812],\n",
      "       [-0.00813557],\n",
      "       [ 0.03447265]]), array([[-0.01094407],\n",
      "       [ 0.00835623],\n",
      "       [ 0.01005559]]), array([[ 0.00125742],\n",
      "       [-0.28965443],\n",
      "       [ 0.07621483]]), array([[ 0.32372232],\n",
      "       [ 0.00490858],\n",
      "       [-0.01907517]]), array([[-0.00195807],\n",
      "       [ 0.36300778],\n",
      "       [-0.05639524]]), array([[-0.61254843],\n",
      "       [-0.15413799],\n",
      "       [ 0.48870098]]), array([[-1.40475423e-02],\n",
      "       [ 6.42259498e-04],\n",
      "       [-1.59362156e+00]])]\n",
      "\n",
      "Translation Vectors: \n",
      " [array([[-25.63821791],\n",
      "       [  6.50314164],\n",
      "       [ 63.01237264]]), array([[-10.02590567],\n",
      "       [-30.66367534],\n",
      "       [ 64.67474914]]), array([[-39.38112508],\n",
      "       [ -7.08960337],\n",
      "       [ 69.84632135]]), array([[ -9.59715911],\n",
      "       [-19.28550632],\n",
      "       [ 69.5580018 ]]), array([[ -7.37468614],\n",
      "       [-28.49488757],\n",
      "       [ 70.60566739]]), array([[-21.39953503],\n",
      "       [ 12.30312781],\n",
      "       [ 70.2582116 ]]), array([[-31.18245358],\n",
      "       [-22.08838384],\n",
      "       [ 70.55155555]]), array([[-46.23027185],\n",
      "       [-21.73391682],\n",
      "       [ 70.45130073]]), array([[-24.79981769],\n",
      "       [ -8.94762431],\n",
      "       [ 70.12258455]]), array([[-46.48557197],\n",
      "       [ 10.23766664],\n",
      "       [ 70.30689853]]), array([[-44.88221208],\n",
      "       [-16.31703093],\n",
      "       [ 70.48414639]]), array([[ 0.56198159],\n",
      "       [10.4387665 ],\n",
      "       [70.22022347]]), array([[-24.08765968],\n",
      "       [ -7.99634795],\n",
      "       [ 70.50242956]]), array([[-20.29073049],\n",
      "       [ 21.89201387],\n",
      "       [ 70.25612625]]), array([[-24.27880549],\n",
      "       [ 17.42970048],\n",
      "       [ 81.31511155]]), array([[-21.68298536],\n",
      "       [ -4.6925277 ],\n",
      "       [ 69.37767526]]), array([[ -3.35850841],\n",
      "       [-16.01529501],\n",
      "       [ 70.5804137 ]]), array([[-23.31211708],\n",
      "       [ -8.85789479],\n",
      "       [ 63.29765485]]), array([[-26.53218657],\n",
      "       [ 10.57651365],\n",
      "       [ 64.3477447 ]]), array([[-22.03915626],\n",
      "       [-17.43767208],\n",
      "       [ 69.97227059]]), array([[-29.74126349],\n",
      "       [-17.95612264],\n",
      "       [ 69.3679008 ]]), array([[-4.98950416],\n",
      "       [26.34080782],\n",
      "       [70.23471735]])]\n"
     ]
    }
   ],
   "source": [
    "print(f\"Camera calibrated: {ret}\")\n",
    "print(f\"\\n Camera Matrix: \\n {cameraMatrix}\")\n",
    "print(f\"\\n Disortion Parameters: \\n {dist}\")\n",
    "print(f\"\\n Rotation Vectors: \\n {rvecs}\")\n",
    "print(f\"\\nTranslation Vectors: \\n {tvecs}\")"
   ],
   "metadata": {
    "collapsed": false,
    "pycharm": {
     "name": "#%%\n"
    }
   }
  },
  {
   "cell_type": "code",
   "execution_count": 28,
   "outputs": [],
   "source": [
    "#Get new camera matrix\n",
    "img = cv2.imread(\"/Users/davidschaupp/Documents/GitHub/Vision/Camera_Calibration/Calibration/Checkerboard_Images/Image__2018-10-05__10-29-04.png\")\n",
    "h, w = img.shape[:2]\n",
    "new_camera_matrix, roi = cv2.getOptimalNewCameraMatrix(cameraMatrix, dist, (w,h), 1, (w,h))"
   ],
   "metadata": {
    "collapsed": false,
    "pycharm": {
     "name": "#%%\n"
    }
   }
  },
  {
   "cell_type": "code",
   "execution_count": 29,
   "outputs": [
    {
     "data": {
      "text/plain": "True"
     },
     "execution_count": 29,
     "metadata": {},
     "output_type": "execute_result"
    }
   ],
   "source": [
    "#Undistort\n",
    "dst = cv2.undistort(img, cameraMatrix, dist, None, new_camera_matrix)\n",
    "#crop the image\n",
    "x, y, w, h = roi\n",
    "dst = dst[y:y+h, x:x+w]\n",
    "cv2.imwrite(\"/Users/davidschaupp/Documents/GitHub/Vision/Camera_Calibration/Calibration/Checkerboard_Images/calibration_result.png\", dst)"
   ],
   "metadata": {
    "collapsed": false,
    "pycharm": {
     "name": "#%%\n"
    }
   }
  },
  {
   "cell_type": "code",
   "execution_count": 31,
   "outputs": [
    {
     "data": {
      "text/plain": "True"
     },
     "execution_count": 31,
     "metadata": {},
     "output_type": "execute_result"
    }
   ],
   "source": [
    "#Undistort with remapping\n",
    "mapx, mapy = cv2.initUndistortRectifyMap(cameraMatrix, dist, None, new_camera_matrix, (w,h), 5)\n",
    "dst = cv2.remap(img, mapx, mapy, cv2.INTER_LINEAR)\n",
    "#crop the image\n",
    "x, y, w, h = roi\n",
    "dst = dst[y:y+h, x:x+w]\n",
    "cv2.imwrite(\"/Users/davidschaupp/Documents/GitHub/Vision/Camera_Calibration/Calibration/Checkerboard_Images/calibration_result_mapped.png\", dst)\n",
    "\n"
   ],
   "metadata": {
    "collapsed": false,
    "pycharm": {
     "name": "#%%\n"
    }
   }
  },
  {
   "cell_type": "code",
   "execution_count": 29,
   "outputs": [],
   "source": [],
   "metadata": {
    "collapsed": false,
    "pycharm": {
     "name": "#%%\n"
    }
   }
  }
 ],
 "metadata": {
  "kernelspec": {
   "display_name": "Python 3",
   "language": "python",
   "name": "python3"
  },
  "language_info": {
   "codemirror_mode": {
    "name": "ipython",
    "version": 2
   },
   "file_extension": ".py",
   "mimetype": "text/x-python",
   "name": "python",
   "nbconvert_exporter": "python",
   "pygments_lexer": "ipython2",
   "version": "2.7.6"
  }
 },
 "nbformat": 4,
 "nbformat_minor": 0
}