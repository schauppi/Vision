{
 "cells": [
  {
   "cell_type": "code",
   "execution_count": 17,
   "metadata": {
    "collapsed": true,
    "pycharm": {
     "name": "#%%\n"
    }
   },
   "outputs": [],
   "source": [
    "import matplotlib.pyplot as plt\n",
    "import numpy as np\n",
    "import open3d as o3d\n",
    "import matplotlib.pyplot as plt"
   ]
  },
  {
   "cell_type": "code",
   "execution_count": 3,
   "outputs": [
    {
     "name": "stdout",
     "output_type": "stream",
     "text": [
      "\u001B[1;33m[Open3D WARNING] GLFW Error: Cocoa: Failed to find service port for display\u001B[0;m\n",
      "\u001B[1;33m[Open3D WARNING] GLFW Error: Cocoa: Failed to find service port for display\u001B[0;m\n"
     ]
    }
   ],
   "source": [
    "#Load an display Point cloud\n",
    "#Escape with \"q\"\n",
    "pcd = o3d.io.read_point_cloud(\"/Users/davidschaupp/Documents/GitHub/Vision/Open3D/test_data/fragment.ply\")\n",
    "vol = o3d.visualization.read_selection_polygon_volume(\"/Users/davidschaupp/Documents/GitHub/Vision/Open3D/test_data/Crop/cropped.json\")\n",
    "chair = vol.crop_point_cloud(pcd)\n",
    "o3d.visualization.draw_geometries([chair])"
   ],
   "metadata": {
    "collapsed": false,
    "pycharm": {
     "name": "#%%\n"
    }
   }
  },
  {
   "cell_type": "code",
   "execution_count": 6,
   "outputs": [
    {
     "name": "stdout",
     "output_type": "stream",
     "text": [
      "\u001B[1;33m[Open3D WARNING] GLFW Error: Cocoa: Failed to find service port for display\u001B[0;m\n",
      "\u001B[1;33m[Open3D WARNING] GLFW Error: Cocoa: Failed to find service port for display\u001B[0;m\n"
     ]
    }
   ],
   "source": [
    "#Point point cloud\n",
    "chair.paint_uniform_color([1,0.706,0])\n",
    "o3d.visualization.draw_geometries([chair])"
   ],
   "metadata": {
    "collapsed": false,
    "pycharm": {
     "name": "#%%\n"
    }
   }
  },
  {
   "cell_type": "code",
   "execution_count": 9,
   "outputs": [
    {
     "name": "stdout",
     "output_type": "stream",
     "text": [
      "\u001B[1;33m[Open3D WARNING] GLFW Error: Cocoa: Failed to find service port for display\u001B[0;m\n",
      "\u001B[1;33m[Open3D WARNING] GLFW Error: Cocoa: Failed to find service port for display\u001B[0;m\n"
     ]
    }
   ],
   "source": [
    "#Point cloud distance\n",
    "#Remove objects from point clouds\n",
    "pcd = o3d.io.read_point_cloud(\"/Users/davidschaupp/Documents/GitHub/Vision/Open3D/test_data/fragment.ply\")\n",
    "vol = o3d.visualization.read_selection_polygon_volume(\"/Users/davidschaupp/Documents/GitHub/Vision/Open3D/test_data/Crop/cropped.json\")\n",
    "chair = vol.crop_point_cloud(pcd)\n",
    "\n",
    "dists = pcd.compute_point_cloud_distance(chair)\n",
    "dists = np.asarray(dists)\n",
    "ind = np.where(dists > 0.01)[0]\n",
    "pcd_without_chair = pcd.select_by_index(ind)\n",
    "o3d.visualization.draw_geometries([pcd_without_chair])"
   ],
   "metadata": {
    "collapsed": false,
    "pycharm": {
     "name": "#%%\n"
    }
   }
  },
  {
   "cell_type": "code",
   "execution_count": 10,
   "outputs": [
    {
     "name": "stdout",
     "output_type": "stream",
     "text": [
      "\u001B[1;33m[Open3D WARNING] GLFW Error: Cocoa: Failed to find service port for display\u001B[0;m\n",
      "\u001B[1;33m[Open3D WARNING] GLFW Error: Cocoa: Failed to find service port for display\u001B[0;m\n"
     ]
    }
   ],
   "source": [
    "#Bounding volumes aka Object detection in 3D space\n",
    "aabb = chair.get_axis_aligned_bounding_box()\n",
    "aabb.color = (1, 0 , 0)\n",
    "obb = chair.get_oriented_bounding_box()\n",
    "obb.color = (0, 1, 0)\n",
    "o3d.visualization.draw_geometries([chair, aabb, obb])"
   ],
   "metadata": {
    "collapsed": false,
    "pycharm": {
     "name": "#%%\n"
    }
   }
  },
  {
   "cell_type": "code",
   "execution_count": 12,
   "outputs": [
    {
     "name": "stdout",
     "output_type": "stream",
     "text": [
      "\u001B[1;33m[Open3D WARNING] GLFW Error: Cocoa: Failed to find service port for display\u001B[0;m\n",
      "\u001B[1;33m[Open3D WARNING] GLFW Error: Cocoa: Failed to find service port for display\u001B[0;m\n"
     ]
    }
   ],
   "source": [
    "#Convex hull\n",
    "hull, _ = chair.compute_convex_hull()\n",
    "hull_ls = o3d.geometry.LineSet.create_from_triangle_mesh(hull)\n",
    "hull_ls.paint_uniform_color((1, 0, 0))\n",
    "o3d.visualization.draw_geometries([chair, hull_ls])"
   ],
   "metadata": {
    "collapsed": false,
    "pycharm": {
     "name": "#%%\n"
    }
   }
  },
  {
   "cell_type": "code",
   "execution_count": 27,
   "outputs": [
    {
     "name": "stdout",
     "output_type": "stream",
     "text": [
      "[Open3D DEBUG] Precompute neighbors.\n",
      "Precompute neighbors.[================>                       ] 37%                                    ] 5%\n",
      "[Open3D DEBUG] Compute Clusters\n",
      "Precompute neighbors.[==============================>         ] 75%\n",
      "Precompute neighbors.[========================================] 100%\n",
      "\u001B[1;33m[Open3D WARNING] GLFW Error: Cocoa: Failed to find service port for display\u001B[0;m          ] 17%\n",
      "\u001B[1;33m[Open3D WARNING] GLFW Error: Cocoa: Failed to find service port for display\u001B[0;m\n"
     ]
    }
   ],
   "source": [
    "#Clustering DBSCAN\n",
    "pcd = o3d.io.read_point_cloud(\"/Users/davidschaupp/Documents/GitHub/Vision/Open3D/test_data/fragment.ply\")\n",
    "\n",
    "with o3d.utility.VerbosityContextManager(o3d.utility.VerbosityLevel.Debug) as cm:\n",
    "    labels = np.array(pcd.cluster_dbscan(eps=0.02, min_points=10, print_progress=True))\n",
    "\n",
    "max_label = labels.max()\n",
    "colors = plt.get_cmap(\"tab20\")(labels / (max_label if max_label > 0 else 1))\n",
    "colors[labels < 0] = 0\n",
    "pcd.colors = o3d.utility.Vector3dVector(colors[:, :3])\n",
    "o3d.visualization.draw_geometries([pcd])"
   ],
   "metadata": {
    "collapsed": false,
    "pycharm": {
     "name": "#%%\n"
    }
   }
  },
  {
   "cell_type": "code",
   "execution_count": 34,
   "outputs": [
    {
     "name": "stdout",
     "output_type": "stream",
     "text": [
      "\u001B[1;33m[Open3D WARNING] GLFW Error: Cocoa: Failed to find service port for display\u001B[0;m\n",
      "\u001B[1;33m[Open3D WARNING] GLFW Error: Cocoa: Failed to find service port for display\u001B[0;m\n"
     ]
    }
   ],
   "source": [
    "#Plane segmentation\n",
    "pcd = o3d.io.read_point_cloud(\"/Users/davidschaupp/Documents/GitHub/Vision/Open3D/test_data/fragment.pcd\")\n",
    "plane_model, inliers = pcd.segment_plane(distance_threshold=0.01, ransac_n=3, num_iterations=1000)\n",
    "[a, b, c, d] = plane_model\n",
    "\n",
    "inlier_cloud = pcd.select_by_index(inliers)\n",
    "inlier_cloud.paint_uniform_color([1.0, 0, 0])\n",
    "outlier_cloud = pcd.select_by_index(inliers, invert=True)\n",
    "o3d.visualization.draw_geometries([inlier_cloud, outlier_cloud])"
   ],
   "metadata": {
    "collapsed": false,
    "pycharm": {
     "name": "#%%\n"
    }
   }
  },
  {
   "cell_type": "code",
   "execution_count": 35,
   "outputs": [
    {
     "name": "stdout",
     "output_type": "stream",
     "text": [
      "\u001B[1;33m[Open3D WARNING] GLFW Error: Cocoa: Failed to find service port for display\u001B[0;m\n",
      "\u001B[1;33m[Open3D WARNING] GLFW Error: Cocoa: Failed to find service port for display\u001B[0;m\n"
     ]
    }
   ],
   "source": [
    "#Hidden Point removal\n",
    "pcd = o3d.io.read_point_cloud(\"/Users/davidschaupp/Documents/GitHub/Vision/Open3D/test_data/fragment.ply\")\n",
    "diameter = np.linalg.norm(np.asarray(pcd.get_max_bound()) - np.asarray(pcd.get_min_bound()))\n",
    "o3d.visualization.draw_geometries([pcd])\n"
   ],
   "metadata": {
    "collapsed": false,
    "pycharm": {
     "name": "#%%\n"
    }
   }
  },
  {
   "cell_type": "code",
   "execution_count": 37,
   "outputs": [
    {
     "name": "stdout",
     "output_type": "stream",
     "text": [
      "\u001B[1;33m[Open3D WARNING] GLFW Error: Cocoa: Failed to find service port for display\u001B[0;m\n",
      "\u001B[1;33m[Open3D WARNING] GLFW Error: Cocoa: Failed to find service port for display\u001B[0;m\n"
     ]
    }
   ],
   "source": [
    "camera = [0,0, diameter]\n",
    "radius = diameter * 100\n",
    "\n",
    "_, pt_map = pcd.hidden_point_removal(camera, radius)\n",
    "\n",
    "pcd = pcd.select_by_index(pt_map)\n",
    "o3d.visualization.draw_geometries([pcd])"
   ],
   "metadata": {
    "collapsed": false,
    "pycharm": {
     "name": "#%%\n"
    }
   }
  },
  {
   "cell_type": "code",
   "execution_count": null,
   "outputs": [],
   "source": [],
   "metadata": {
    "collapsed": false,
    "pycharm": {
     "name": "#%%\n"
    }
   }
  }
 ],
 "metadata": {
  "kernelspec": {
   "display_name": "Python 3",
   "language": "python",
   "name": "python3"
  },
  "language_info": {
   "codemirror_mode": {
    "name": "ipython",
    "version": 2
   },
   "file_extension": ".py",
   "mimetype": "text/x-python",
   "name": "python",
   "nbconvert_exporter": "python",
   "pygments_lexer": "ipython2",
   "version": "2.7.6"
  }
 },
 "nbformat": 4,
 "nbformat_minor": 0
}