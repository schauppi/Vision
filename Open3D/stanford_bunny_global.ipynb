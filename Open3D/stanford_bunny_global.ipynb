{
 "cells": [
  {
   "cell_type": "code",
   "execution_count": 1,
   "metadata": {
    "collapsed": true
   },
   "outputs": [],
   "source": [
    "import open3d as o3d\n",
    "import copy\n",
    "import numpy as np"
   ]
  },
  {
   "cell_type": "code",
   "execution_count": 81,
   "outputs": [],
   "source": [
    "#Load data\n",
    "source = o3d.io.read_point_cloud(\"/Users/davidschaupp/Documents/GitHub/Vision/Open3D/Stanford_Bunny_ICP/bunny/data/bun000.ply\")\n",
    "target = o3d.io.read_point_cloud(\"/Users/davidschaupp/Documents/GitHub/Vision/Open3D/Stanford_Bunny_ICP/bunny/data/bun090.ply\")"
   ],
   "metadata": {
    "collapsed": false,
    "pycharm": {
     "name": "#%%\n"
    }
   }
  },
  {
   "cell_type": "code",
   "execution_count": 13,
   "outputs": [],
   "source": [
    "#Visualize with coordinate system\n",
    "o3d.visualization.draw_geometries([source, target, o3d.geometry.TriangleMesh.create_coordinate_frame()])"
   ],
   "metadata": {
    "collapsed": false,
    "pycharm": {
     "name": "#%%\n"
    }
   }
  },
  {
   "cell_type": "code",
   "execution_count": 65,
   "outputs": [],
   "source": [
    "o3d.visualization.draw_geometries([source, target])"
   ],
   "metadata": {
    "collapsed": false,
    "pycharm": {
     "name": "#%%\n"
    }
   }
  },
  {
   "cell_type": "code",
   "execution_count": 31,
   "outputs": [],
   "source": [
    "#Voxel downsampling\n",
    "target_down = target.voxel_down_sample(voxel_size=0.01)\n",
    "source_down = source.voxel_down_sample(voxel_size=0.01)\n",
    "#o3d.visualization.draw_geometries([target_down, source_down])"
   ],
   "metadata": {
    "collapsed": false,
    "pycharm": {
     "name": "#%%\n"
    }
   }
  },
  {
   "cell_type": "code",
   "execution_count": 66,
   "outputs": [],
   "source": [
    "#Rotation with downsampled cloud\n",
    "rotation_matrix = target_down.get_rotation_matrix_from_xyz((0, 20, 0))\n",
    "target_down_rotated = target_down.rotate(rotation_matrix, center=(0,0,0))\n",
    "o3d.visualization.draw_geometries([target_down_rotated, source_down])"
   ],
   "metadata": {
    "collapsed": false,
    "pycharm": {
     "name": "#%%\n"
    }
   }
  },
  {
   "cell_type": "code",
   "execution_count": 24,
   "outputs": [],
   "source": [
    "#Rotation with cloud\n",
    "#rotation_matrix = target.get_rotation_matrix_from_xyz((0, 25, 0))\n",
    "source = o3d.io.read_point_cloud(\"/Users/davidschaupp/Documents/GitHub/Vision/Open3D/Stanford_Bunny_ICP/bunny/data/bun000.ply\")\n",
    "target = o3d.io.read_point_cloud(\"/Users/davidschaupp/Documents/GitHub/Vision/Open3D/Stanford_Bunny_ICP/bunny/data/bun090.ply\")\n",
    "rotation_matrix = target.get_rotation_matrix_from_axis_angle((0, 3.14, 0))\n",
    "target_rotated = target.rotate(rotation_matrix, center=(0,0,0))\n",
    "o3d.visualization.draw_geometries([target_rotated, source])"
   ],
   "metadata": {
    "collapsed": false,
    "pycharm": {
     "name": "#%%\n"
    }
   }
  },
  {
   "cell_type": "code",
   "execution_count": 60,
   "outputs": [
    {
     "name": "stdout",
     "output_type": "stream",
     "text": [
      "[[ 0.40808206  0.          0.91294525]\n",
      " [ 0.          1.          0.        ]\n",
      " [-0.91294525  0.          0.40808206]]\n"
     ]
    }
   ],
   "source": [
    "print(rotation_matrix)"
   ],
   "metadata": {
    "collapsed": false,
    "pycharm": {
     "name": "#%%\n"
    }
   }
  },
  {
   "cell_type": "code",
   "execution_count": 7,
   "outputs": [],
   "source": [
    "threshold = 0.02\n",
    "trans_init = np.asarray([[0.93, -0.34, 0.00, 0.00],\n",
    "                         [0.34, 0.93, 0.00, 0.00],\n",
    "                         [0.00, 0.00, 1.00, 0.00],\n",
    "                         [0.00, 0.00, 0.00, 1.00]])"
   ],
   "metadata": {
    "collapsed": false,
    "pycharm": {
     "name": "#%%\n"
    }
   }
  },
  {
   "cell_type": "code",
   "execution_count": 8,
   "outputs": [
    {
     "ename": "TypeError",
     "evalue": "registration_icp(): incompatible function arguments. The following argument types are supported:\n    1. (source: open3d.cpu.pybind.geometry.PointCloud, target: open3d.cpu.pybind.geometry.PointCloud, max_correspondence_distance: float, init: numpy.ndarray[float64[4, 4]] = array([[1., 0., 0., 0.],\n       [0., 1., 0., 0.],\n       [0., 0., 1., 0.],\n       [0., 0., 0., 1.]]), estimation_method: open3d.cpu.pybind.pipelines.registration.TransformationEstimation = TransformationEstimationPointToPoint without scaling., criteria: open3d.cpu.pybind.pipelines.registration.ICPConvergenceCriteria = ICPConvergenceCriteria class with relative_fitness=1.000000e-06, relative_rmse=1.000000e-06, and max_iteration=30) -> open3d.cpu.pybind.pipelines.registration.RegistrationResult\n\nInvoked with: PointCloud with 40256 points., PointCloud with 30379 points., TransformationEstimationPointToPoint without scaling.",
     "output_type": "error",
     "traceback": [
      "\u001B[0;31m---------------------------------------------------------------------------\u001B[0m",
      "\u001B[0;31mTypeError\u001B[0m                                 Traceback (most recent call last)",
      "\u001B[0;32m/var/folders/4j/mn7788d1119_m0pqwgqpc8d00000gn/T/ipykernel_4451/4106334051.py\u001B[0m in \u001B[0;36m<module>\u001B[0;34m\u001B[0m\n\u001B[0;32m----> 1\u001B[0;31m \u001B[0mreg_p2p\u001B[0m \u001B[0;34m=\u001B[0m \u001B[0mo3d\u001B[0m\u001B[0;34m.\u001B[0m\u001B[0mpipelines\u001B[0m\u001B[0;34m.\u001B[0m\u001B[0mregistration\u001B[0m\u001B[0;34m.\u001B[0m\u001B[0mregistration_icp\u001B[0m\u001B[0;34m(\u001B[0m\u001B[0msource\u001B[0m\u001B[0;34m,\u001B[0m \u001B[0mtarget_rotated\u001B[0m\u001B[0;34m,\u001B[0m \u001B[0mo3d\u001B[0m\u001B[0;34m.\u001B[0m\u001B[0mpipelines\u001B[0m\u001B[0;34m.\u001B[0m\u001B[0mregistration\u001B[0m\u001B[0;34m.\u001B[0m\u001B[0mTransformationEstimationPointToPoint\u001B[0m\u001B[0;34m(\u001B[0m\u001B[0;34m)\u001B[0m\u001B[0;34m)\u001B[0m\u001B[0;34m\u001B[0m\u001B[0;34m\u001B[0m\u001B[0m\n\u001B[0m\u001B[1;32m      2\u001B[0m \u001B[0;34m\u001B[0m\u001B[0m\n",
      "\u001B[0;31mTypeError\u001B[0m: registration_icp(): incompatible function arguments. The following argument types are supported:\n    1. (source: open3d.cpu.pybind.geometry.PointCloud, target: open3d.cpu.pybind.geometry.PointCloud, max_correspondence_distance: float, init: numpy.ndarray[float64[4, 4]] = array([[1., 0., 0., 0.],\n       [0., 1., 0., 0.],\n       [0., 0., 1., 0.],\n       [0., 0., 0., 1.]]), estimation_method: open3d.cpu.pybind.pipelines.registration.TransformationEstimation = TransformationEstimationPointToPoint without scaling., criteria: open3d.cpu.pybind.pipelines.registration.ICPConvergenceCriteria = ICPConvergenceCriteria class with relative_fitness=1.000000e-06, relative_rmse=1.000000e-06, and max_iteration=30) -> open3d.cpu.pybind.pipelines.registration.RegistrationResult\n\nInvoked with: PointCloud with 40256 points., PointCloud with 30379 points., TransformationEstimationPointToPoint without scaling."
     ]
    }
   ],
   "source": [
    "reg_p2p = o3d.pipelines.registration.registration_icp(source, target_rotated, o3d.pipelines.registration.TransformationEstimationPointToPoint())"
   ],
   "metadata": {
    "collapsed": false,
    "pycharm": {
     "name": "#%%\n"
    }
   }
  },
  {
   "cell_type": "code",
   "execution_count": null,
   "outputs": [],
   "source": [],
   "metadata": {
    "collapsed": false,
    "pycharm": {
     "name": "#%%\n"
    }
   }
  }
 ],
 "metadata": {
  "kernelspec": {
   "display_name": "Python 3",
   "language": "python",
   "name": "python3"
  },
  "language_info": {
   "codemirror_mode": {
    "name": "ipython",
    "version": 2
   },
   "file_extension": ".py",
   "mimetype": "text/x-python",
   "name": "python",
   "nbconvert_exporter": "python",
   "pygments_lexer": "ipython2",
   "version": "2.7.6"
  }
 },
 "nbformat": 4,
 "nbformat_minor": 0
}